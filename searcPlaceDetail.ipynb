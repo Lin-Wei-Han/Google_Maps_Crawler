{
 "cells": [
  {
   "cell_type": "code",
   "execution_count": 2,
   "metadata": {},
   "outputs": [],
   "source": [
    "from selenium import webdriver\n",
    "from selenium.webdriver.common.by import By\n",
    "from mongo import attraction_db\n",
    "from model.google import Google\n",
    "from model.Spider import Spider \n",
    "from model.Word import Word \n",
    "from bs4 import BeautifulSoup\n",
    "import pandas as pd\n",
    "import json\n",
    "import time\n",
    "import csv\n",
    "import re\n",
    "import os"
   ]
  },
  {
   "cell_type": "code",
   "execution_count": 20,
   "metadata": {},
   "outputs": [],
   "source": [
    "def sort_by_weekday(operating_hours):\n",
    "    days_order = ['星期一', '星期二', '星期三', '星期四', '星期五', '星期六', '星期日']\n",
    "    sorted_hours = sorted(operating_hours, key=lambda x: days_order.index(x['week']))\n",
    "    return sorted_hours\n",
    "\n",
    "def get_place_more_info(driver):\n",
    "    try:\n",
    "        data={}\n",
    "        page_content = driver.page_source\n",
    "        soup = BeautifulSoup(page_content, 'html.parser')\n",
    "        open_time_week = []\n",
    "        try:data[\"subtitle\"] = soup.select('.DkEaL')[0].text\n",
    "        except:data[\"subtitle\"] = \"\"\n",
    "        try:data[\"info\"] = soup.select('.PYvSYb')[0].text\n",
    "        except:data[\"info\"] = \"\"\n",
    "        try:data[\"site\"] = soup.select('a.CsEnBe')[0].get('href')\n",
    "        except:data[\"site\"] = \"\"\n",
    "        try:\n",
    "            open_time = soup.select('.y0skZc')\n",
    "            for time_up in open_time:\n",
    "                week = time_up.select('td div')[0].text\n",
    "                clock = time_up.select('td.mxowUb .G8aQO')[0].text\n",
    "                result={}\n",
    "                result['week'] = week\n",
    "                result['clock'] = clock\n",
    "                open_time_week.append(result)\n",
    "            data[\"open_time\"] = sort_by_weekday(open_time_week)\n",
    "        except:\n",
    "            open_time = []\n",
    "            data[\"open_time\"] = open_time\n",
    "        try:\n",
    "            library = driver.find_element(By.CSS_SELECTOR,'.aoRNLd.kn2E5e.NMjTrf.lvtCsd')\n",
    "            library.click()\n",
    "            time.sleep(0.5)\n",
    "            data[\"photo\"] = get_photo_library(driver)\n",
    "        except:\n",
    "            data[\"photo\"] = []\n",
    "    except:\n",
    "        data[\"subtitle\"] = \"\"\n",
    "        data[\"info\"] = \"\"\n",
    "        data[\"site\"] = \"\"\n",
    "        data[\"open_time\"] = []\n",
    "        data[\"photo\"] = []\n",
    "    return data\n",
    "\n",
    "def get_photo(style):\n",
    "    url_match = re.search(r'url\\((.+)\\);', style)\n",
    "    if url_match:\n",
    "        extracted_url = url_match.group(1)\n",
    "        return extracted_url\n",
    "    \n",
    "def multiply_wh_parameters(original_url, factor):\n",
    "    def modify_size(match):\n",
    "        return f\"{match.group(1)}{int(match.group(2)) * factor}\"\n",
    "    \n",
    "    url_parts = original_url.split('=')\n",
    "\n",
    "    if len(url_parts) > 1:\n",
    "        modified_params = re.sub(r'([wh])(\\d+)', modify_size, url_parts[1])\n",
    "        modified_url = url_parts[0] + '=' + modified_params\n",
    "    else:\n",
    "        modified_url = original_url\n",
    "    \n",
    "    return modified_url\n",
    "\n",
    "def get_photo_library(driver):\n",
    "    page_content = driver.page_source\n",
    "    soup = BeautifulSoup(page_content, 'html.parser')\n",
    "    style_element = soup.find_all('div', class_='U39Pmb')\n",
    "\n",
    "    photo_library = []\n",
    "\n",
    "    for element in style_element:\n",
    "        style_attribute = element['style']\n",
    "        url = get_photo(style_attribute)\n",
    "        url_pattern = re.compile(r'https?://(?:www\\.)?[\\w\\.-]+(?:\\.[a-zA-Z]{2,6})+[\\w\\.-]*[\\?#]?[\\w\\.-=&]*')\n",
    "        url = url.replace('\"',\"\")\n",
    "        if re.match(url_pattern, url):\n",
    "            photo_library.append(multiply_wh_parameters(url,10))\n",
    "\n",
    "    return photo_library\n"
   ]
  },
  {
   "cell_type": "code",
   "execution_count": 4,
   "metadata": {},
   "outputs": [],
   "source": [
    "url = 'https://www.google.com/maps/place/%E5%85%AB%E9%87%8C%E5%8D%81%E4%B8%89%E8%A1%8C%E6%96%87%E5%8C%96%E5%85%AC%E5%9C%92/@25.1520013,121.3953676,13.18z/data=!4m6!3m5!1s0x3442a51740d10deb:0x521fe6ec74e2cebe!8m2!3d25.1651782!4d121.4132327!16s%2Fg%2F11bbrls82z?authuser=0&entry=ttu'"
   ]
  },
  {
   "cell_type": "code",
   "execution_count": 21,
   "metadata": {},
   "outputs": [
    {
     "name": "stdout",
     "output_type": "stream",
     "text": [
      "{'subtitle': '公園', 'info': '這座公園有滑草坡和大型沙坑，是放風箏的熱門去處。', 'site': 'https://www.hrcm.ntpc.gov.tw/Home/Page?page_id=764', 'open_time': [{'week': '星期一', 'clock': '24 小時營業'}, {'week': '星期二', 'clock': '24 小時營業'}, {'week': '星期三', 'clock': '24 小時營業'}, {'week': '星期四', 'clock': '24 小時營業'}, {'week': '星期五', 'clock': '24 小時營業'}, {'week': '星期六', 'clock': '24 小時營業'}, {'week': '星期日', 'clock': '24 小時營業'}], 'photo': ['https://lh5.googleusercontent.com/p/AF1QipPPY_0Pj2wLTfSyNBRTPDO1E0EFcRypHUBKNqVF=w2030-h1350-k-no', 'https://lh5.googleusercontent.com/p/AF1QipOZEHlc5PkWNY-5YwSnbw9wjH6gUW8U3CrJNRf-=w2030-h1140-k-no', 'https://lh5.googleusercontent.com/p/AF1QipPfyKwd8gdJoMjVERqrEOPx28LJ9UiMFO0T4G7b=w2030-h1140-k-no', 'https://lh5.googleusercontent.com/p/AF1QipPOeguv2t14-3h64wXC_rmllz3mqOqWXKrPJraL=w2030-h1520-k-no', 'https://lh5.googleusercontent.com/p/AF1QipOiJ9D_f_WL9t5tu-XgPrMfymTw5J0FJ-T5VP-m=w2030-h2700-k-no']}\n"
     ]
    }
   ],
   "source": [
    "driver = webdriver.Chrome()\n",
    "driver.set_window_size(800,800)\n",
    "driver.get(url)\n",
    "\n",
    "data = get_place_more_info(driver)\n",
    "print(data)\n",
    "driver.quit()"
   ]
  },
  {
   "cell_type": "code",
   "execution_count": null,
   "metadata": {},
   "outputs": [],
   "source": [
    "'https://lh5.googleusercontent.com/p/AF1QipPPY_0Pj2wLTfSyNBRTPDO1E0EFcRypHUBKNqVF=w203-h135-k-no'\n",
    "'https://lh50.googleusercontent.com/p/AF10QipPPY_0Pj20wLTfSyNBRTPDO10E0EFcRypHUBKNqVF=w2030-h1350-k-no'"
   ]
  }
 ],
 "metadata": {
  "kernelspec": {
   "display_name": "venv",
   "language": "python",
   "name": "python3"
  },
  "language_info": {
   "codemirror_mode": {
    "name": "ipython",
    "version": 3
   },
   "file_extension": ".py",
   "mimetype": "text/x-python",
   "name": "python",
   "nbconvert_exporter": "python",
   "pygments_lexer": "ipython3",
   "version": "3.10.9"
  },
  "orig_nbformat": 4
 },
 "nbformat": 4,
 "nbformat_minor": 2
}
