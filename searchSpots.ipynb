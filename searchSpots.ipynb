{
 "cells": [
  {
   "cell_type": "code",
   "execution_count": 2,
   "metadata": {},
   "outputs": [],
   "source": [
    "from selenium import webdriver\n",
    "from selenium.webdriver.common.by import By\n",
    "from bs4 import BeautifulSoup\n",
    "import pandas as pd\n",
    "from mongo import attraction_db\n",
    "from model.google import Google\n",
    "from dotenv import load_dotenv,find_dotenv\n",
    "from pymongo import MongoClient\n",
    "import os\n",
    "import json\n",
    "import time\n",
    "import csv\n",
    "import os"
   ]
  },
  {
   "cell_type": "code",
   "execution_count": 81,
   "metadata": {},
   "outputs": [],
   "source": [
    "url = 'https://www.google.com/maps/search/%E6%99%AF%E9%BB%9E'\n",
    "\n",
    "driver = webdriver.Chrome()\n",
    "driver.get(url)"
   ]
  },
  {
   "cell_type": "code",
   "execution_count": 82,
   "metadata": {},
   "outputs": [],
   "source": [
    "def getPage():\n",
    "    page_content = driver.page_source\n",
    "    # 將 HTML 內容轉換成 BeautifulSoup 物件，html.parser 為使用的解析器\n",
    "    soup = BeautifulSoup(page_content, 'html.parser')\n",
    "    # 透過 select 使用 CSS 選擇器 選取我們要選的 html 內容\n",
    "    return soup.select('.Nv2PK.THOPZb.CpccDe')\n",
    "\n",
    "def scrollPage(times):   # 滾動頁面\n",
    "    counter = 0\n",
    "    while counter <= times:\n",
    "        pane = driver.find_element(\"xpath\",'//*[@id=\"QA0Szd\"]/div/div/div[1]/div[2]/div/div[1]/div/div/div[2]/div[1]')\n",
    "        driver.execute_script(\"arguments[0].scrollTop = arguments[0].scrollHeight\", pane)\n",
    "        counter += 1\n",
    "\n",
    "def getElement():  # 抓取目前的所有留言\n",
    "    spots_list = []\n",
    "    scrollPage(5)\n",
    "    elements = getPage()\n",
    "\n",
    "    for element in elements:\n",
    "        name = element.select('.qBF1Pd.fontHeadlineSmall')[0].text\n",
    "        url = element.select('.hfpxzc')[0].get('href')\n",
    "        dataset = {}\n",
    "        dataset['name'] = name\n",
    "        dataset['google_url'] = url\n",
    "\n",
    "        spots_list.append(dataset)\n",
    "    return spots_list"
   ]
  },
  {
   "cell_type": "code",
   "execution_count": 297,
   "metadata": {},
   "outputs": [
    {
     "name": "stdout",
     "output_type": "stream",
     "text": [
      "\n",
      "後浦16藝文特區\n",
      "金水學校展示館\n",
      "清遠湖\n",
      "7611\n",
      "已將資料寫入 CSV 檔案：./data/spot_list/spots.csv\n"
     ]
    }
   ],
   "source": [
    "lastSpot = ''\n",
    "while 7 == 7:\n",
    "    print(lastSpot)\n",
    "    spots_list = getElement()\n",
    "    if (spots_list[len(spots_list)-1][\"name\"] == lastSpot ):\n",
    "        break\n",
    "    lastSpot = spots_list[len(spots_list)-1][\"name\"]\n",
    "    time.sleep(1)\n",
    "    getElement()\n",
    "\n",
    "csv_file = './data/spot_list/spots.csv'\n",
    "if os.path.exists(csv_file):\n",
    "    with open(csv_file, mode=\"r\", newline=\"\", encoding=\"utf-8-sig\") as file:\n",
    "        reader = csv.DictReader(file)\n",
    "        existing_data = list(reader)\n",
    "else:\n",
    "    existing_data = []\n",
    "\n",
    "for spot in spots_list:\n",
    "    existing_data.append(spot)\n",
    "\n",
    "print(len(existing_data))\n",
    "\n",
    "\n",
    "with open(csv_file, mode=\"w\", newline=\"\", encoding=\"utf-8-sig\") as file:\n",
    "    # 定義 CSV 欄位\n",
    "    fieldnames = [\"name\", \"google_url\"]\n",
    "    # 建立 CSV 寫入器\n",
    "    writer = csv.DictWriter(file, fieldnames=fieldnames)\n",
    "    writer.writeheader()\n",
    "    writer.writerows(existing_data)\n",
    "\n",
    "    print(f\"已將資料寫入 CSV 檔案：{csv_file}\")"
   ]
  },
  {
   "cell_type": "code",
   "execution_count": 300,
   "metadata": {},
   "outputs": [
    {
     "data": {
      "text/html": [
       "<div>\n",
       "<style scoped>\n",
       "    .dataframe tbody tr th:only-of-type {\n",
       "        vertical-align: middle;\n",
       "    }\n",
       "\n",
       "    .dataframe tbody tr th {\n",
       "        vertical-align: top;\n",
       "    }\n",
       "\n",
       "    .dataframe thead th {\n",
       "        text-align: right;\n",
       "    }\n",
       "</style>\n",
       "<table border=\"1\" class=\"dataframe\">\n",
       "  <thead>\n",
       "    <tr style=\"text-align: right;\">\n",
       "      <th></th>\n",
       "      <th>name</th>\n",
       "      <th>google_url</th>\n",
       "    </tr>\n",
       "  </thead>\n",
       "  <tbody>\n",
       "    <tr>\n",
       "      <th>0</th>\n",
       "      <td>淡水老街</td>\n",
       "      <td>https://www.google.com/maps/place/%E6%B7%A1%E6...</td>\n",
       "    </tr>\n",
       "    <tr>\n",
       "      <th>1</th>\n",
       "      <td>重建街戀愛巷</td>\n",
       "      <td>https://www.google.com/maps/place/%E9%87%8D%E5...</td>\n",
       "    </tr>\n",
       "    <tr>\n",
       "      <th>2</th>\n",
       "      <td>一滴水紀念館</td>\n",
       "      <td>https://www.google.com/maps/place/%E4%B8%80%E6...</td>\n",
       "    </tr>\n",
       "    <tr>\n",
       "      <th>3</th>\n",
       "      <td>淡水情人塔 Lover's Tower</td>\n",
       "      <td>https://www.google.com/maps/place/%E6%B7%A1%E6...</td>\n",
       "    </tr>\n",
       "    <tr>\n",
       "      <th>4</th>\n",
       "      <td>情人橋</td>\n",
       "      <td>https://www.google.com/maps/place/%E6%83%85%E4...</td>\n",
       "    </tr>\n",
       "    <tr>\n",
       "      <th>...</th>\n",
       "      <td>...</td>\n",
       "      <td>...</td>\n",
       "    </tr>\n",
       "    <tr>\n",
       "      <th>7606</th>\n",
       "      <td>官澳風獅爺(雄)</td>\n",
       "      <td>https://www.google.com/maps/place/%E5%AE%98%E6...</td>\n",
       "    </tr>\n",
       "    <tr>\n",
       "      <th>7607</th>\n",
       "      <td>黃卓彬洋樓</td>\n",
       "      <td>https://www.google.com/maps/place/%E9%BB%83%E5...</td>\n",
       "    </tr>\n",
       "    <tr>\n",
       "      <th>7608</th>\n",
       "      <td>夏墅風獅爺</td>\n",
       "      <td>https://www.google.com/maps/place/%E5%A4%8F%E5...</td>\n",
       "    </tr>\n",
       "    <tr>\n",
       "      <th>7609</th>\n",
       "      <td>建功嶼</td>\n",
       "      <td>https://www.google.com/maps/place/%E5%BB%BA%E5...</td>\n",
       "    </tr>\n",
       "    <tr>\n",
       "      <th>7610</th>\n",
       "      <td>清遠湖</td>\n",
       "      <td>https://www.google.com/maps/place/%E6%B8%85%E9...</td>\n",
       "    </tr>\n",
       "  </tbody>\n",
       "</table>\n",
       "<p>7611 rows × 2 columns</p>\n",
       "</div>"
      ],
      "text/plain": [
       "                     name                                         google_url\n",
       "0                    淡水老街  https://www.google.com/maps/place/%E6%B7%A1%E6...\n",
       "1                  重建街戀愛巷  https://www.google.com/maps/place/%E9%87%8D%E5...\n",
       "2                  一滴水紀念館  https://www.google.com/maps/place/%E4%B8%80%E6...\n",
       "3     淡水情人塔 Lover's Tower  https://www.google.com/maps/place/%E6%B7%A1%E6...\n",
       "4                     情人橋  https://www.google.com/maps/place/%E6%83%85%E4...\n",
       "...                   ...                                                ...\n",
       "7606             官澳風獅爺(雄)  https://www.google.com/maps/place/%E5%AE%98%E6...\n",
       "7607                黃卓彬洋樓  https://www.google.com/maps/place/%E9%BB%83%E5...\n",
       "7608                夏墅風獅爺  https://www.google.com/maps/place/%E5%A4%8F%E5...\n",
       "7609                  建功嶼  https://www.google.com/maps/place/%E5%BB%BA%E5...\n",
       "7610                  清遠湖  https://www.google.com/maps/place/%E6%B8%85%E9...\n",
       "\n",
       "[7611 rows x 2 columns]"
      ]
     },
     "execution_count": 300,
     "metadata": {},
     "output_type": "execute_result"
    }
   ],
   "source": [
    "dataset = pd.read_csv('./data/spot_list/spots.csv')\n",
    "dataset"
   ]
  },
  {
   "cell_type": "code",
   "execution_count": 310,
   "metadata": {},
   "outputs": [
    {
     "data": {
      "text/html": [
       "<div>\n",
       "<style scoped>\n",
       "    .dataframe tbody tr th:only-of-type {\n",
       "        vertical-align: middle;\n",
       "    }\n",
       "\n",
       "    .dataframe tbody tr th {\n",
       "        vertical-align: top;\n",
       "    }\n",
       "\n",
       "    .dataframe thead th {\n",
       "        text-align: right;\n",
       "    }\n",
       "</style>\n",
       "<table border=\"1\" class=\"dataframe\">\n",
       "  <thead>\n",
       "    <tr style=\"text-align: right;\">\n",
       "      <th></th>\n",
       "      <th>name</th>\n",
       "      <th>google_url</th>\n",
       "    </tr>\n",
       "  </thead>\n",
       "  <tbody>\n",
       "    <tr>\n",
       "      <th>0</th>\n",
       "      <td>淡水老街</td>\n",
       "      <td>https://www.google.com/maps/place/%E6%B7%A1%E6...</td>\n",
       "    </tr>\n",
       "    <tr>\n",
       "      <th>1</th>\n",
       "      <td>重建街戀愛巷</td>\n",
       "      <td>https://www.google.com/maps/place/%E9%87%8D%E5...</td>\n",
       "    </tr>\n",
       "    <tr>\n",
       "      <th>2</th>\n",
       "      <td>一滴水紀念館</td>\n",
       "      <td>https://www.google.com/maps/place/%E4%B8%80%E6...</td>\n",
       "    </tr>\n",
       "    <tr>\n",
       "      <th>3</th>\n",
       "      <td>淡水情人塔 Lover's Tower</td>\n",
       "      <td>https://www.google.com/maps/place/%E6%B7%A1%E6...</td>\n",
       "    </tr>\n",
       "    <tr>\n",
       "      <th>4</th>\n",
       "      <td>情人橋</td>\n",
       "      <td>https://www.google.com/maps/place/%E6%83%85%E4...</td>\n",
       "    </tr>\n",
       "    <tr>\n",
       "      <th>...</th>\n",
       "      <td>...</td>\n",
       "      <td>...</td>\n",
       "    </tr>\n",
       "    <tr>\n",
       "      <th>7606</th>\n",
       "      <td>官澳風獅爺(雄)</td>\n",
       "      <td>https://www.google.com/maps/place/%E5%AE%98%E6...</td>\n",
       "    </tr>\n",
       "    <tr>\n",
       "      <th>7607</th>\n",
       "      <td>黃卓彬洋樓</td>\n",
       "      <td>https://www.google.com/maps/place/%E9%BB%83%E5...</td>\n",
       "    </tr>\n",
       "    <tr>\n",
       "      <th>7608</th>\n",
       "      <td>夏墅風獅爺</td>\n",
       "      <td>https://www.google.com/maps/place/%E5%A4%8F%E5...</td>\n",
       "    </tr>\n",
       "    <tr>\n",
       "      <th>7609</th>\n",
       "      <td>建功嶼</td>\n",
       "      <td>https://www.google.com/maps/place/%E5%BB%BA%E5...</td>\n",
       "    </tr>\n",
       "    <tr>\n",
       "      <th>7610</th>\n",
       "      <td>清遠湖</td>\n",
       "      <td>https://www.google.com/maps/place/%E6%B8%85%E9...</td>\n",
       "    </tr>\n",
       "  </tbody>\n",
       "</table>\n",
       "<p>4739 rows × 2 columns</p>\n",
       "</div>"
      ],
      "text/plain": [
       "                     name                                         google_url\n",
       "0                    淡水老街  https://www.google.com/maps/place/%E6%B7%A1%E6...\n",
       "1                  重建街戀愛巷  https://www.google.com/maps/place/%E9%87%8D%E5...\n",
       "2                  一滴水紀念館  https://www.google.com/maps/place/%E4%B8%80%E6...\n",
       "3     淡水情人塔 Lover's Tower  https://www.google.com/maps/place/%E6%B7%A1%E6...\n",
       "4                     情人橋  https://www.google.com/maps/place/%E6%83%85%E4...\n",
       "...                   ...                                                ...\n",
       "7606             官澳風獅爺(雄)  https://www.google.com/maps/place/%E5%AE%98%E6...\n",
       "7607                黃卓彬洋樓  https://www.google.com/maps/place/%E9%BB%83%E5...\n",
       "7608                夏墅風獅爺  https://www.google.com/maps/place/%E5%A4%8F%E5...\n",
       "7609                  建功嶼  https://www.google.com/maps/place/%E5%BB%BA%E5...\n",
       "7610                  清遠湖  https://www.google.com/maps/place/%E6%B8%85%E9...\n",
       "\n",
       "[4739 rows x 2 columns]"
      ]
     },
     "execution_count": 310,
     "metadata": {},
     "output_type": "execute_result"
    }
   ],
   "source": [
    "df_unique = dataset.drop_duplicates(subset=\"name\", keep=\"first\")\n",
    "df_unique.to_csv('./data/spot_list/spotsList.csv', index=False, encoding=\"utf-8-sig\")\n",
    "df_unique"
   ]
  },
  {
   "cell_type": "code",
   "execution_count": 312,
   "metadata": {},
   "outputs": [],
   "source": [
    "existing_names = attraction_db.attractionInfo.distinct(\"name\")\n",
    "df_filtered = df_unique[~df_unique[\"name\"].isin(existing_names)]\n",
    "df_filtered.to_csv('./data/spot_list/spotsList.csv', index=False, encoding=\"utf-8-sig\")"
   ]
  },
  {
   "cell_type": "code",
   "execution_count": 4,
   "metadata": {},
   "outputs": [
    {
     "name": "stdout",
     "output_type": "stream",
     "text": [
      "440 下罟子【聖媽祠】 https://www.google.com/maps/place/%E4%B8%8B%E7%BD%9F%E5%AD%90%E3%80%90%E8%81%96%E5%AA%BD%E7%A5%A0%E3%80%91/data=!4m7!3m6!1s0x3442a5fa55cfab8f:0x8e60049ed362fb8!8m2!3d25.1412316!4d121.3861457!16s%2Fg%2F11g1mhm3dn!19sChIJj6vPVfqlQjQRuC827UkA5gg?authuser=0&hl=zh-TW&rclk=1\n",
      "441 荖阡坑 https://www.google.com/maps/place/%E8%8D%96%E9%98%A1%E5%9D%91/data=!4m7!3m6!1s0x3442a5c8c51c0879:0x3f2b7830e638b52a!8m2!3d25.121999!4d121.409302!16s%2Fg%2F1tdffcsl!19sChIJeQgcxcilQjQRKrU45jB4Kz8?authuser=0&hl=zh-TW&rclk=1\n",
      "442 阿桂俱樂部 https://www.google.com/maps/place/%E9%98%BF%E6%A1%82%E4%BF%B1%E6%A8%82%E9%83%A8/data=!4m7!3m6!1s0x3442a58571626207:0xace6c0f8355f93dc!8m2!3d25.1365771!4d121.3844052!16s%2Fg%2F11shjtpq19!19sChIJB2JicYWlQjQR3JNfNfjA5qw?authuser=0&hl=zh-TW&rclk=1\n",
      "443 LOVE KART樂福卡丁車 https://www.google.com/maps/place/LOVE+KART%E6%A8%82%E7%A6%8F%E5%8D%A1%E4%B8%81%E8%BB%8A/data=!4m7!3m6!1s0x3442a452fbc9d87d:0x675a4e8e1fcd94b5!8m2!3d25.1421833!4d121.397809!16s%2Fg%2F11bzyqjfm1!19sChIJfdjJ-1KkQjQRtZTNH45OWmc?authuser=0&hl=zh-TW&rclk=1\n",
      "444 紫藤花藝村 https://www.google.com/maps/place/%E7%B4%AB%E8%97%A4%E8%8A%B1%E8%97%9D%E6%9D%91/data=!4m7!3m6!1s0x3442a5c9e421c1a1:0x97024c6a38f3c0d7!8m2!3d25.1253309!4d121.4066215!16s%2Fg%2F1tzggbl2!19sChIJocEh5MmlQjQR18DzOGpMApc?authuser=0&hl=zh-TW&rclk=1\n",
      "445 南灣頭[新巴士] https://www.google.com/maps/place/%E5%8D%97%E7%81%A3%E9%A0%AD%5B%E6%96%B0%E5%B7%B4%E5%A3%AB%5D/data=!4m7!3m6!1s0x3442a40d06d0c047:0xe6954f17a2a8f05f!8m2!3d25.13486!4d121.36305!16s%2Fg%2F1ptx3y4jv!19sChIJR8DQBg2kQjQRX_CoohdPleY?authuser=0&hl=zh-TW&rclk=1\n",
      "446 觀照園 新北市無家者中途之家 https://www.google.com/maps/place/%E8%A7%80%E7%85%A7%E5%9C%92+%E6%96%B0%E5%8C%97%E5%B8%82%E7%84%A1%E5%AE%B6%E8%80%85%E4%B8%AD%E9%80%94%E4%B9%8B%E5%AE%B6/data=!4m7!3m6!1s0x3469ab32d8925655:0x2359d9f5fc4a475e!8m2!3d25.12509!4d121.3685351!16s%2Fg%2F11c1g6chsm!19sChIJVVaS2DKraTQRXkdK_PXZWSM?authuser=0&hl=zh-TW&rclk=1\n",
      "447 長坑福德宮 https://www.google.com/maps/place/%E9%95%B7%E5%9D%91%E7%A6%8F%E5%BE%B7%E5%AE%AE/data=!4m7!3m6!1s0x3442a430d7895325:0x5fc1be348c4a6b0c!8m2!3d25.1247913!4d121.3912117!16s%2Fg%2F11c2pn9qg3!19sChIJJVOJ1zCkQjQRDGtKjDS-wV8?authuser=0&hl=zh-TW&rclk=1\n",
      "448 山崗石材 https://www.google.com/maps/place/%E5%B1%B1%E5%B4%97%E7%9F%B3%E6%9D%90/data=!4m7!3m6!1s0x3442a42c3b787fe9:0xa1ef66d16fbcdfcd!8m2!3d25.1155997!4d121.3950763!16s%2Fg%2F11g6_w5f4h!19sChIJ6X94OyykQjQRzd-8b9Fm76E?authuser=0&hl=zh-TW&rclk=1\n",
      "449 布萊迪文旦柚咖啡農園 https://www.google.com/maps/place/%E5%B8%83%E8%90%8A%E8%BF%AA%E6%96%87%E6%97%A6%E6%9F%9A%E5%92%96%E5%95%A1%E8%BE%B2%E5%9C%92/data=!4m7!3m6!1s0x3442a5c936163ebf:0x98538c3ffb9db3ed!8m2!3d25.122116!4d121.4071045!16s%2Fg%2F11b88w194b!19sChIJvz4WNsmlQjQR7bOd-z-MU5g?authuser=0&hl=zh-TW&rclk=1\n"
     ]
    }
   ],
   "source": [
    "# ============================================\n",
    "# TEST\n",
    "# ============================================\n",
    "\n",
    "spotsList = pd.read_csv('./data/spot_list/spotsList.csv') \n",
    "\n",
    "for index, row in spotsList[440:450].iterrows():\n",
    "    print(index,row['name'],row['google_url'])"
   ]
  },
  {
   "cell_type": "code",
   "execution_count": 17,
   "metadata": {},
   "outputs": [],
   "source": [
    "# 取得 Google URL\n",
    "\n",
    "name_to_url = {}\n",
    "with open('./data/spot_list/spotsList.csv', 'r', encoding='utf-8') as spots_file:\n",
    "    spots_reader = csv.reader(spots_file)\n",
    "    next(spots_reader)  # 跳过标题行\n",
    "    for row in spots_reader:\n",
    "        name = row[0]  # 假设名称在第一列\n",
    "        url = row[1]   # 假设URL在第二列\n",
    "        name_to_url[name] = url\n",
    "\n",
    "def get_url_for_name(name):\n",
    "    return name_to_url.get(name, \"URL not found\")"
   ]
  },
  {
   "cell_type": "code",
   "execution_count": 23,
   "metadata": {},
   "outputs": [],
   "source": [
    "# ============================================\n",
    "# 個別處理\n",
    "# ============================================\n",
    "\n",
    "name = '櫻花大道'\n",
    "url  = get_url_for_name(name)"
   ]
  },
  {
   "cell_type": "code",
   "execution_count": 24,
   "metadata": {},
   "outputs": [
    {
     "name": "stdout",
     "output_type": "stream",
     "text": [
      "{'name': '櫻花大道', 'google_url': 'https://www.google.com/maps/place/%E6%AB%BB%E8%8A%B1%E5%A4%A7%E9%81%93/data=!4m7!3m6!1s0x3442ae39be7123e3:0x76aeeeafb2dd3e9e!8m2!3d25.1504227!4d121.5044983!16s%2Fg%2F11b720r0xy!19sChIJ4yNxvjmuQjQRnj7dsq_urnY?authuser=0&hl=zh-TW&rclk=1', 'address': '251新北市淡水區', 'id': 'TPH_271', 'region': '新北市', 'place_id': 'ChIJAQAAABCwQjQRLbiMeGSYq48', 'google_address': '251, Taiwan, New Taipei City, Tamsui District', 'rating': 4.1, 'user_ratings_total': 602, 'lat': 25.1687611, 'lng': 121.4614806, 'photo_reference': 'AUacShhuBu-96N4eyT7AUvHd0UnpMeSsenDHbGURoDY31itmMIPoJtP9FmzE9W3pJ8qJ2EGeXF1Hsfiz2iQUHKNhHcrv9lE3ZJPAzm-p4FueibFIVjiX_xBFURJ9A_HKHZ3zCjTDq6X6HdFvk2gNGlQnbM73skls_aG7BE9udbXaucOtX-NV', 'photo_url': 'https://lh3.googleusercontent.com/places/ANJU3DsqA6Zsa-w_iOVmBmTRj4mqfePGokgc8kUzGl_k_47ZMRqyJ9K6AJk6CN5oUOtp7Z48M9uHic_l84bYzkeFZFJLNW7n9yynNrg=s1600-w1200-h1200', 'tag': ['櫻花', '櫻花季', 'ㄧ些', '健走', '登山', '北投區', '復興三路', '櫻花樹']}\n",
      "{'_id': ObjectId('64eb5a10bcda7bf0f7974441'), 'name': '滬尾櫻花大道', 'google_url': 'https://www.google.com/maps/place/%E6%BB%AC%E5%B0%BE%E6%AB%BB%E8%8A%B1%E5%A4%A7%E9%81%93/data=!4m7!3m6!1s0x3442b01000000001:0x8fab9864788cb82d!8m2!3d25.1687611!4d121.4614806!16s%2Fg%2F12m91rfvs!19sChIJAQAAABCwQjQRLbiMeGSYq48?authuser=0&hl=zh-TW&rclk=1', 'address': '251新北市淡水區', 'id': 'TPH_053', 'region': '新北市', 'place_id': 'ChIJAQAAABCwQjQRLbiMeGSYq48', 'google_address': '251, Taiwan, New Taipei City, Tamsui District', 'rating': 4.1, 'user_ratings_total': 602, 'lat': 25.1687611, 'lng': 121.4614806, 'photo_reference': 'AUacShhml_K8MrKFH_g8uApZROulMBTkVif-DebCCPbkUE5z3pLeV4Mq9Hp6s9FjFRhvDoPlYznsQRIH-xTwxpXyfV-ELzXCJRHRJ7oNf_XuhONRfuCvD8Ep2IKDNU7YvTtUosIAiw0i5Qj1K5B_0okoDkzH4f1quU2Hzk1E4_AEVGHt1CLr', 'photo_url': 'https://lh3.googleusercontent.com/places/ANJU3Dv0RSf57yqJQCtZ-lKsVUnmT52of5yOh2nauFcX4u9WyKR__RomJOGVMh10Fp2fDbm9tY1XNnoTzWS7DPb0xOFEX_oaBVMMaJI=s1600-w1200-h1200', 'tag': ['櫻花', '步道', '健行', '散步', '櫻花季', '淡水', '鄧公站', '悠閒', '清幽', '花季', '騎車', '櫻花樹', '三空泉', '清涼', '清靜', '浪漫', '自然', '茂盛', '農場', '花期', '大自然', '淡水人', '極品', '爬山', '滬尾', '淡海', '山櫻花', '幽靜', '北投', '菁華', '拍照', '導覽', '生態環境', '蟲嗚', '新種', '春意', '關東煮', '攤位', '清新', '凊幽', '隧道', '涼爽', '鄧公路', '紅樹林站', '約會', '細雨', '山區', '產業道路', '八卦', '鄧公', '輕軌線', '藤蔓', '淡水區', '黑糟', '期望值', '綠葉', '蹤影', '電線桿', '總數', '蜂窩', '蜜蜂', '香水', '靜美', '遼闊', '人煙稀少', '谷歌', '新北', '花瓣', '芬多精', '學府路', '電線杆', '世外桃源', '八勢街', '公站', '鄉野', '街區', '體驗', '光芒', '目的地', '腳踏車', '命案', '房車', '車禍', '胖子', '肉腳', '纜線', '單車', '幹線', '美名', '菜園', '碼頭', '粉紅色', '農村', '愜意', '下午茶', '自行車', '群蝶', '木炭', '農民', '枝頭', '踏青', '新芽', '市集', '山坡', '農產品']}\n"
     ]
    }
   ],
   "source": [
    "data = pd.read_csv('./data/tfidf_csv/{}.csv'.format(name))\n",
    "tag_value = data['words'].tolist()\n",
    "\n",
    "place_detail_data = Google().get_place_info(name,url,tag_value)\n",
    "place_detail_data = json.loads(place_detail_data)\n",
    "print(place_detail_data)\n",
    "\n",
    "existing_data = attraction_db.attractionInfo.find_one({\n",
    "    \"$or\": [\n",
    "        {\"place_id\": place_detail_data[\"place_id\"]},\n",
    "        {\"id\": place_detail_data[\"id\"]}\n",
    "    ]\n",
    "})\n",
    "print(existing_data)\n",
    "if existing_data is None:\n",
    "    attraction_db.attractionInfo.insert_one(place_detail_data)\n",
    "    print(f\"{place_detail_data['name']}：已新增\")"
   ]
  },
  {
   "cell_type": "code",
   "execution_count": 28,
   "metadata": {},
   "outputs": [
    {
     "name": "stdout",
     "output_type": "stream",
     "text": [
      "1\n",
      "['面天坪石屋群']\n"
     ]
    }
   ],
   "source": [
    "# 檢查未成功插入資料庫的景點\n",
    "\n",
    "existing_names = set(doc['name'] for doc in attraction_db.attractionInfo.find({}, {\"name\": 1}))\n",
    "\n",
    "csv_folder_path = './data/tfidf_csv/' \n",
    "csv_files = os.listdir(csv_folder_path)\n",
    "new_csv_files = [csv_file.split('.')[0] for csv_file in csv_files if csv_file.split('.')[0] not in existing_names]\n",
    "print(len(new_csv_files))\n",
    "print(new_csv_files)"
   ]
  },
  {
   "cell_type": "code",
   "execution_count": 29,
   "metadata": {},
   "outputs": [
    {
     "name": "stdout",
     "output_type": "stream",
     "text": [
      "面天坪石屋群：已新增\n"
     ]
    }
   ],
   "source": [
    "for spot in new_csv_files:\n",
    "    name = spot\n",
    "    url = get_url_for_name(name)\n",
    "    try:\n",
    "\n",
    "        tfidf = pd.read_csv('./data/tfidf_csv/{}.csv'.format(name))\n",
    "        tag_value = tfidf['words'].tolist()\n",
    "        \n",
    "        place_detail_data = Google().get_place_info(name,url,tag_value)\n",
    "        place_detail_data = json.loads(place_detail_data)\n",
    "        existing_data = attraction_db.attractionInfo.find_one({\n",
    "            \"$or\": [\n",
    "                {\"place_id\": place_detail_data[\"place_id\"]},\n",
    "                {\"id\": place_detail_data[\"id\"]}\n",
    "            ]\n",
    "        })\n",
    "        if existing_data is None:\n",
    "            attraction_db.attractionInfo.insert_one(place_detail_data)\n",
    "            print(f\"{place_detail_data['name']}：已新增\")\n",
    "        else:\n",
    "            print(f\"{place_detail_data['name']}：未新增\")\n",
    "            csv_file_path = './data/tfidf_csv/{}.csv'.format(name)\n",
    "            if os.path.exists(csv_file_path):\n",
    "                os.remove(csv_file_path)\n",
    "                print(f\"{place_detail_data['name']}.csv 已删除\")\n",
    "    except Exception as e:\n",
    "        print(f\"錯誤訊息：{e}\")\n",
    "        continue"
   ]
  }
 ],
 "metadata": {
  "kernelspec": {
   "display_name": "venv",
   "language": "python",
   "name": "python3"
  },
  "language_info": {
   "codemirror_mode": {
    "name": "ipython",
    "version": 3
   },
   "file_extension": ".py",
   "mimetype": "text/x-python",
   "name": "python",
   "nbconvert_exporter": "python",
   "pygments_lexer": "ipython3",
   "version": "3.10.9"
  },
  "orig_nbformat": 4
 },
 "nbformat": 4,
 "nbformat_minor": 2
}
