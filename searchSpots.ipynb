{
 "cells": [
  {
   "cell_type": "code",
   "execution_count": 6,
   "metadata": {},
   "outputs": [],
   "source": [
    "from selenium import webdriver\n",
    "from selenium.webdriver.common.by import By\n",
    "from bs4 import BeautifulSoup\n",
    "import pandas as pd\n",
    "from mongo import attraction_db\n",
    "from model.google import Google\n",
    "from dotenv import load_dotenv,find_dotenv\n",
    "from pymongo import MongoClient\n",
    "import random\n",
    "import os\n",
    "import json\n",
    "import time\n",
    "import csv\n",
    "import os"
   ]
  },
  {
   "cell_type": "code",
   "execution_count": 81,
   "metadata": {},
   "outputs": [],
   "source": [
    "url = 'https://www.google.com/maps/search/%E6%99%AF%E9%BB%9E'\n",
    "\n",
    "driver = webdriver.Chrome()\n",
    "driver.get(url)"
   ]
  },
  {
   "cell_type": "code",
   "execution_count": 82,
   "metadata": {},
   "outputs": [],
   "source": [
    "def getPage():\n",
    "    page_content = driver.page_source\n",
    "    # 將 HTML 內容轉換成 BeautifulSoup 物件，html.parser 為使用的解析器\n",
    "    soup = BeautifulSoup(page_content, 'html.parser')\n",
    "    # 透過 select 使用 CSS 選擇器 選取我們要選的 html 內容\n",
    "    return soup.select('.Nv2PK.THOPZb.CpccDe')\n",
    "\n",
    "def scrollPage(times):   # 滾動頁面\n",
    "    counter = 0\n",
    "    while counter <= times:\n",
    "        pane = driver.find_element(\"xpath\",'//*[@id=\"QA0Szd\"]/div/div/div[1]/div[2]/div/div[1]/div/div/div[2]/div[1]')\n",
    "        driver.execute_script(\"arguments[0].scrollTop = arguments[0].scrollHeight\", pane)\n",
    "        counter += 1\n",
    "\n",
    "def getElement():  # 抓取目前的所有留言\n",
    "    spots_list = []\n",
    "    scrollPage(5)\n",
    "    elements = getPage()\n",
    "\n",
    "    for element in elements:\n",
    "        name = element.select('.qBF1Pd.fontHeadlineSmall')[0].text\n",
    "        url = element.select('.hfpxzc')[0].get('href')\n",
    "        dataset = {}\n",
    "        dataset['name'] = name\n",
    "        dataset['google_url'] = url\n",
    "\n",
    "        spots_list.append(dataset)\n",
    "    return spots_list"
   ]
  },
  {
   "cell_type": "code",
   "execution_count": 297,
   "metadata": {},
   "outputs": [
    {
     "name": "stdout",
     "output_type": "stream",
     "text": [
      "\n",
      "後浦16藝文特區\n",
      "金水學校展示館\n",
      "清遠湖\n",
      "7611\n",
      "已將資料寫入 CSV 檔案：./data/spot_list/spots.csv\n"
     ]
    }
   ],
   "source": [
    "lastSpot = ''\n",
    "while 7 == 7:\n",
    "    print(lastSpot)\n",
    "    spots_list = getElement()\n",
    "    if (spots_list[len(spots_list)-1][\"name\"] == lastSpot ):\n",
    "        break\n",
    "    lastSpot = spots_list[len(spots_list)-1][\"name\"]\n",
    "    time.sleep(1)\n",
    "    getElement()\n",
    "\n",
    "csv_file = './data/spot_list/spots.csv'\n",
    "if os.path.exists(csv_file):\n",
    "    with open(csv_file, mode=\"r\", newline=\"\", encoding=\"utf-8-sig\") as file:\n",
    "        reader = csv.DictReader(file)\n",
    "        existing_data = list(reader)\n",
    "else:\n",
    "    existing_data = []\n",
    "\n",
    "for spot in spots_list:\n",
    "    existing_data.append(spot)\n",
    "\n",
    "print(len(existing_data))\n",
    "\n",
    "\n",
    "with open(csv_file, mode=\"w\", newline=\"\", encoding=\"utf-8-sig\") as file:\n",
    "    # 定義 CSV 欄位\n",
    "    fieldnames = [\"name\", \"google_url\"]\n",
    "    # 建立 CSV 寫入器\n",
    "    writer = csv.DictWriter(file, fieldnames=fieldnames)\n",
    "    writer.writeheader()\n",
    "    writer.writerows(existing_data)\n",
    "\n",
    "    print(f\"已將資料寫入 CSV 檔案：{csv_file}\")"
   ]
  },
  {
   "cell_type": "code",
   "execution_count": 300,
   "metadata": {},
   "outputs": [
    {
     "data": {
      "text/html": [
       "<div>\n",
       "<style scoped>\n",
       "    .dataframe tbody tr th:only-of-type {\n",
       "        vertical-align: middle;\n",
       "    }\n",
       "\n",
       "    .dataframe tbody tr th {\n",
       "        vertical-align: top;\n",
       "    }\n",
       "\n",
       "    .dataframe thead th {\n",
       "        text-align: right;\n",
       "    }\n",
       "</style>\n",
       "<table border=\"1\" class=\"dataframe\">\n",
       "  <thead>\n",
       "    <tr style=\"text-align: right;\">\n",
       "      <th></th>\n",
       "      <th>name</th>\n",
       "      <th>google_url</th>\n",
       "    </tr>\n",
       "  </thead>\n",
       "  <tbody>\n",
       "    <tr>\n",
       "      <th>0</th>\n",
       "      <td>淡水老街</td>\n",
       "      <td>https://www.google.com/maps/place/%E6%B7%A1%E6...</td>\n",
       "    </tr>\n",
       "    <tr>\n",
       "      <th>1</th>\n",
       "      <td>重建街戀愛巷</td>\n",
       "      <td>https://www.google.com/maps/place/%E9%87%8D%E5...</td>\n",
       "    </tr>\n",
       "    <tr>\n",
       "      <th>2</th>\n",
       "      <td>一滴水紀念館</td>\n",
       "      <td>https://www.google.com/maps/place/%E4%B8%80%E6...</td>\n",
       "    </tr>\n",
       "    <tr>\n",
       "      <th>3</th>\n",
       "      <td>淡水情人塔 Lover's Tower</td>\n",
       "      <td>https://www.google.com/maps/place/%E6%B7%A1%E6...</td>\n",
       "    </tr>\n",
       "    <tr>\n",
       "      <th>4</th>\n",
       "      <td>情人橋</td>\n",
       "      <td>https://www.google.com/maps/place/%E6%83%85%E4...</td>\n",
       "    </tr>\n",
       "    <tr>\n",
       "      <th>...</th>\n",
       "      <td>...</td>\n",
       "      <td>...</td>\n",
       "    </tr>\n",
       "    <tr>\n",
       "      <th>7606</th>\n",
       "      <td>官澳風獅爺(雄)</td>\n",
       "      <td>https://www.google.com/maps/place/%E5%AE%98%E6...</td>\n",
       "    </tr>\n",
       "    <tr>\n",
       "      <th>7607</th>\n",
       "      <td>黃卓彬洋樓</td>\n",
       "      <td>https://www.google.com/maps/place/%E9%BB%83%E5...</td>\n",
       "    </tr>\n",
       "    <tr>\n",
       "      <th>7608</th>\n",
       "      <td>夏墅風獅爺</td>\n",
       "      <td>https://www.google.com/maps/place/%E5%A4%8F%E5...</td>\n",
       "    </tr>\n",
       "    <tr>\n",
       "      <th>7609</th>\n",
       "      <td>建功嶼</td>\n",
       "      <td>https://www.google.com/maps/place/%E5%BB%BA%E5...</td>\n",
       "    </tr>\n",
       "    <tr>\n",
       "      <th>7610</th>\n",
       "      <td>清遠湖</td>\n",
       "      <td>https://www.google.com/maps/place/%E6%B8%85%E9...</td>\n",
       "    </tr>\n",
       "  </tbody>\n",
       "</table>\n",
       "<p>7611 rows × 2 columns</p>\n",
       "</div>"
      ],
      "text/plain": [
       "                     name                                         google_url\n",
       "0                    淡水老街  https://www.google.com/maps/place/%E6%B7%A1%E6...\n",
       "1                  重建街戀愛巷  https://www.google.com/maps/place/%E9%87%8D%E5...\n",
       "2                  一滴水紀念館  https://www.google.com/maps/place/%E4%B8%80%E6...\n",
       "3     淡水情人塔 Lover's Tower  https://www.google.com/maps/place/%E6%B7%A1%E6...\n",
       "4                     情人橋  https://www.google.com/maps/place/%E6%83%85%E4...\n",
       "...                   ...                                                ...\n",
       "7606             官澳風獅爺(雄)  https://www.google.com/maps/place/%E5%AE%98%E6...\n",
       "7607                黃卓彬洋樓  https://www.google.com/maps/place/%E9%BB%83%E5...\n",
       "7608                夏墅風獅爺  https://www.google.com/maps/place/%E5%A4%8F%E5...\n",
       "7609                  建功嶼  https://www.google.com/maps/place/%E5%BB%BA%E5...\n",
       "7610                  清遠湖  https://www.google.com/maps/place/%E6%B8%85%E9...\n",
       "\n",
       "[7611 rows x 2 columns]"
      ]
     },
     "execution_count": 300,
     "metadata": {},
     "output_type": "execute_result"
    }
   ],
   "source": [
    "dataset = pd.read_csv('./data/spot_list/spots.csv')\n",
    "dataset"
   ]
  },
  {
   "cell_type": "code",
   "execution_count": 310,
   "metadata": {},
   "outputs": [
    {
     "data": {
      "text/html": [
       "<div>\n",
       "<style scoped>\n",
       "    .dataframe tbody tr th:only-of-type {\n",
       "        vertical-align: middle;\n",
       "    }\n",
       "\n",
       "    .dataframe tbody tr th {\n",
       "        vertical-align: top;\n",
       "    }\n",
       "\n",
       "    .dataframe thead th {\n",
       "        text-align: right;\n",
       "    }\n",
       "</style>\n",
       "<table border=\"1\" class=\"dataframe\">\n",
       "  <thead>\n",
       "    <tr style=\"text-align: right;\">\n",
       "      <th></th>\n",
       "      <th>name</th>\n",
       "      <th>google_url</th>\n",
       "    </tr>\n",
       "  </thead>\n",
       "  <tbody>\n",
       "    <tr>\n",
       "      <th>0</th>\n",
       "      <td>淡水老街</td>\n",
       "      <td>https://www.google.com/maps/place/%E6%B7%A1%E6...</td>\n",
       "    </tr>\n",
       "    <tr>\n",
       "      <th>1</th>\n",
       "      <td>重建街戀愛巷</td>\n",
       "      <td>https://www.google.com/maps/place/%E9%87%8D%E5...</td>\n",
       "    </tr>\n",
       "    <tr>\n",
       "      <th>2</th>\n",
       "      <td>一滴水紀念館</td>\n",
       "      <td>https://www.google.com/maps/place/%E4%B8%80%E6...</td>\n",
       "    </tr>\n",
       "    <tr>\n",
       "      <th>3</th>\n",
       "      <td>淡水情人塔 Lover's Tower</td>\n",
       "      <td>https://www.google.com/maps/place/%E6%B7%A1%E6...</td>\n",
       "    </tr>\n",
       "    <tr>\n",
       "      <th>4</th>\n",
       "      <td>情人橋</td>\n",
       "      <td>https://www.google.com/maps/place/%E6%83%85%E4...</td>\n",
       "    </tr>\n",
       "    <tr>\n",
       "      <th>...</th>\n",
       "      <td>...</td>\n",
       "      <td>...</td>\n",
       "    </tr>\n",
       "    <tr>\n",
       "      <th>7606</th>\n",
       "      <td>官澳風獅爺(雄)</td>\n",
       "      <td>https://www.google.com/maps/place/%E5%AE%98%E6...</td>\n",
       "    </tr>\n",
       "    <tr>\n",
       "      <th>7607</th>\n",
       "      <td>黃卓彬洋樓</td>\n",
       "      <td>https://www.google.com/maps/place/%E9%BB%83%E5...</td>\n",
       "    </tr>\n",
       "    <tr>\n",
       "      <th>7608</th>\n",
       "      <td>夏墅風獅爺</td>\n",
       "      <td>https://www.google.com/maps/place/%E5%A4%8F%E5...</td>\n",
       "    </tr>\n",
       "    <tr>\n",
       "      <th>7609</th>\n",
       "      <td>建功嶼</td>\n",
       "      <td>https://www.google.com/maps/place/%E5%BB%BA%E5...</td>\n",
       "    </tr>\n",
       "    <tr>\n",
       "      <th>7610</th>\n",
       "      <td>清遠湖</td>\n",
       "      <td>https://www.google.com/maps/place/%E6%B8%85%E9...</td>\n",
       "    </tr>\n",
       "  </tbody>\n",
       "</table>\n",
       "<p>4739 rows × 2 columns</p>\n",
       "</div>"
      ],
      "text/plain": [
       "                     name                                         google_url\n",
       "0                    淡水老街  https://www.google.com/maps/place/%E6%B7%A1%E6...\n",
       "1                  重建街戀愛巷  https://www.google.com/maps/place/%E9%87%8D%E5...\n",
       "2                  一滴水紀念館  https://www.google.com/maps/place/%E4%B8%80%E6...\n",
       "3     淡水情人塔 Lover's Tower  https://www.google.com/maps/place/%E6%B7%A1%E6...\n",
       "4                     情人橋  https://www.google.com/maps/place/%E6%83%85%E4...\n",
       "...                   ...                                                ...\n",
       "7606             官澳風獅爺(雄)  https://www.google.com/maps/place/%E5%AE%98%E6...\n",
       "7607                黃卓彬洋樓  https://www.google.com/maps/place/%E9%BB%83%E5...\n",
       "7608                夏墅風獅爺  https://www.google.com/maps/place/%E5%A4%8F%E5...\n",
       "7609                  建功嶼  https://www.google.com/maps/place/%E5%BB%BA%E5...\n",
       "7610                  清遠湖  https://www.google.com/maps/place/%E6%B8%85%E9...\n",
       "\n",
       "[4739 rows x 2 columns]"
      ]
     },
     "execution_count": 310,
     "metadata": {},
     "output_type": "execute_result"
    }
   ],
   "source": [
    "df_unique = dataset.drop_duplicates(subset=\"name\", keep=\"first\")\n",
    "df_unique.to_csv('./data/spot_list/spotsList.csv', index=False, encoding=\"utf-8-sig\")\n",
    "df_unique"
   ]
  },
  {
   "cell_type": "code",
   "execution_count": 312,
   "metadata": {},
   "outputs": [],
   "source": [
    "existing_names = attraction_db.attractionInfo.distinct(\"name\")\n",
    "df_filtered = df_unique[~df_unique[\"name\"].isin(existing_names)]\n",
    "df_filtered.to_csv('./data/spot_list/spotsList.csv', index=False, encoding=\"utf-8-sig\")"
   ]
  },
  {
   "cell_type": "code",
   "execution_count": 2,
   "metadata": {},
   "outputs": [
    {
     "name": "stdout",
     "output_type": "stream",
     "text": [
      "105 雙溪老街 https://www.google.com/maps/place/%E9%9B%99%E6%BA%AA%E8%80%81%E8%A1%97/data=!4m7!3m6!1s0x345d5baed442085f:0x48bfb2cf00eb672f!8m2!3d25.0344966!4d121.864534!16s%2Fg%2F11gdh0wj13!19sChIJXwhC1K5bXTQRL2frAM-yv0g?authuser=0&hl=zh-TW&rclk=1\n",
      "106 雙溪荷花園 https://www.google.com/maps/place/%E9%9B%99%E6%BA%AA%E8%8D%B7%E8%8A%B1%E5%9C%92/data=!4m7!3m6!1s0x345d5a1289a8d727:0x7438fc890d6e5f0a!8m2!3d25.0262271!4d121.8230223!16s%2Fg%2F11btxj5fwd!19sChIJJ9eoiRJaXTQRCl9uDYn8OHQ?authuser=0&hl=zh-TW&rclk=1\n",
      "107 雙溪清水坑 https://www.google.com/maps/place/%E9%9B%99%E6%BA%AA%E6%B8%85%E6%B0%B4%E5%9D%91/data=!4m7!3m6!1s0x345d5b167c499697:0x7ce9b46a5916830c!8m2!3d25.0222089!4d121.8223017!16s%2Fg%2F11v0_6_c3g!19sChIJl5ZJfBZbXTQRDIMWWWq06Xw?authuser=0&hl=zh-TW&rclk=1\n",
      "108 牡丹老街 https://www.google.com/maps/place/%E7%89%A1%E4%B8%B9%E8%80%81%E8%A1%97/data=!4m7!3m6!1s0x345d5ae3f8d714d5:0x54c177443c400bfb!8m2!3d25.0588124!4d121.8507299!16s%2Fg%2F11gdh1fy80!19sChIJ1RTX-ONaXTQR-wtAPER3wVQ?authuser=0&hl=zh-TW&rclk=1\n",
      "109 三貂嶺生態友善隧道 https://www.google.com/maps/place/%E4%B8%89%E8%B2%82%E5%B6%BA%E7%94%9F%E6%85%8B%E5%8F%8B%E5%96%84%E9%9A%A7%E9%81%93/data=!4m7!3m6!1s0x345d5b408e5ba96f:0x13875d54beb5dac6!8m2!3d25.056793!4d121.8430888!16s%2Fg%2F11t5l74z32!19sChIJb6lbjkBbXTQRxtq1vlRdhxM?authuser=0&hl=zh-TW&rclk=1\n",
      "110 雙溪渡船頭 https://www.google.com/maps/place/%E9%9B%99%E6%BA%AA%E6%B8%A1%E8%88%B9%E9%A0%AD/data=!4m7!3m6!1s0x345d5baed1170b5f:0xbac64899b9e8dce3!8m2!3d25.0343172!4d121.864343!16s%2Fg%2F11c2prgwvt!19sChIJXwsX0a5bXTQR49zouZlIxro?authuser=0&hl=zh-TW&rclk=1\n",
      "111 雙溪蓮園 https://www.google.com/maps/place/%E9%9B%99%E6%BA%AA%E8%93%AE%E5%9C%92/data=!4m7!3m6!1s0x345d5a5006287737:0x40f04402de6317fe!8m2!3d25.0347138!4d121.8450956!16s%2Fg%2F11bzt7c9lv!19sChIJN3coBlBaXTQR_hdj3gJE8EA?authuser=0&hl=zh-TW&rclk=1\n",
      "112 夢幻寺 https://www.google.com/maps/place/%E5%A4%A2%E5%B9%BB%E5%AF%BA/data=!4m7!3m6!1s0x345d5a90ac3ce16b:0x5ac80fd438553dca!8m2!3d25.0646739!4d121.8273945!16s%2Fg%2F1tsymhs9!19sChIJa-E8rJBaXTQRyj1VONQPyFo?authuser=0&hl=zh-TW&rclk=1\n",
      "113 平溪線北迴線分岔點看火車秘境 https://www.google.com/maps/place/%E5%B9%B3%E6%BA%AA%E7%B7%9A%E5%8C%97%E8%BF%B4%E7%B7%9A%E5%88%86%E5%B2%94%E9%BB%9E%E7%9C%8B%E7%81%AB%E8%BB%8A%E7%A7%98%E5%A2%83/data=!4m7!3m6!1s0x345d5b5cd0378271:0xa30e728e4c712490!8m2!3d25.0617879!4d121.8230591!16s%2Fg%2F11txlv4d68!19sChIJcYI30FxbXTQRkCRxTI5yDqM?authuser=0&hl=zh-TW&rclk=1\n",
      "114 舊三貂嶺隧道鏡面水池 https://www.google.com/maps/place/%E8%88%8A%E4%B8%89%E8%B2%82%E5%B6%BA%E9%9A%A7%E9%81%93%E9%8F%A1%E9%9D%A2%E6%B0%B4%E6%B1%A0/data=!4m7!3m6!1s0x345d5b5a0de061d7:0x341a0c35ff2772c0!8m2!3d25.0627059!4d121.8232209!16s%2Fg%2F11v3mz32vw!19sChIJ12HgDVpbXTQRwHIn_zUMGjQ?authuser=0&hl=zh-TW&rclk=1\n",
      "115 十分老街 https://www.google.com/maps/place/%E5%8D%81%E5%88%86%E8%80%81%E8%A1%97/data=!4m7!3m6!1s0x345d512fffffffff:0xf6dec4403a7273be!8m2!3d25.0426687!4d121.7766757!16s%2Fg%2F12m9dvn8b!19sChIJ_____y9RXTQRvnNyOkDE3vY?authuser=0&hl=zh-TW&rclk=1\n",
      "116 眼鏡洞 https://www.google.com/maps/place/%E7%9C%BC%E9%8F%A1%E6%B4%9E/data=!4m7!3m6!1s0x345d50f27b3adfb1:0x20a81e4de01025e7!8m2!3d25.0488737!4d121.7849838!16s%2Fg%2F1yw9l1z4g!19sChIJsd86e_JQXTQR5yUQ4E0eqCA?authuser=0&hl=zh-TW&rclk=1\n",
      "117 嶺腳老街 https://www.google.com/maps/place/%E5%B6%BA%E8%85%B3%E8%80%81%E8%A1%97/data=!4m7!3m6!1s0x345d5136aa9a86fb:0x878f7e7d4125a5aa!8m2!3d25.0307228!4d121.7479188!16s%2Fg%2F11c5xw8dtm!19sChIJ-4aaqjZRXTQRqqUlQX1-j4c?authuser=0&hl=zh-TW&rclk=1\n",
      "118 望古瀑布 https://www.google.com/maps/place/%E6%9C%9B%E5%8F%A4%E7%80%91%E5%B8%83/data=!4m7!3m6!1s0x345d56b50cc7a499:0xa58efb5dac696ee1!8m2!3d25.0348653!4d121.7587975!16s%2Fg%2F11b_016hkh!19sChIJmaTHDLVWXTQR4W5prF37jqU?authuser=0&hl=zh-TW&rclk=1\n",
      "119 十分天燈廣場 https://www.google.com/maps/place/%E5%8D%81%E5%88%86%E5%A4%A9%E7%87%88%E5%BB%A3%E5%A0%B4/data=!4m7!3m6!1s0x345d50edd72b042d:0x20552815ac8f1cc4!8m2!3d25.0467946!4d121.7825742!16s%2Fg%2F11c59ndybz!19sChIJLQQr1-1QXTQRxByPrBUoVSA?authuser=0&hl=zh-TW&rclk=1\n"
     ]
    }
   ],
   "source": [
    "# ============================================\n",
    "# TEST\n",
    "# ============================================\n",
    "\n",
    "spotsList = pd.read_csv('./data/spot_list/spotsList.csv') \n",
    "\n",
    "for index, row in spotsList[105:120].iterrows():\n",
    "    print(index,row['name'],row['google_url'])"
   ]
  },
  {
   "cell_type": "code",
   "execution_count": 3,
   "metadata": {},
   "outputs": [],
   "source": [
    "# 取得 Google URL\n",
    "\n",
    "name_to_url = {}\n",
    "with open('./data/spot_list/spotsList.csv', 'r', encoding='utf-8') as spots_file:\n",
    "    spots_reader = csv.reader(spots_file)\n",
    "    next(spots_reader)  # 跳过标题行\n",
    "    for row in spots_reader:\n",
    "        name = row[0]  # 假设名称在第一列\n",
    "        url = row[1]   # 假设URL在第二列\n",
    "        name_to_url[name] = url\n",
    "\n",
    "def get_url_for_name(name):\n",
    "    return name_to_url.get(name, \"URL not found\")"
   ]
  },
  {
   "cell_type": "code",
   "execution_count": 3,
   "metadata": {},
   "outputs": [],
   "source": [
    "# ============================================\n",
    "# 個別處理\n",
    "# ============================================\n",
    "\n",
    "name = '櫻花大道'\n",
    "url  = get_url_for_name(name)"
   ]
  },
  {
   "cell_type": "code",
   "execution_count": 24,
   "metadata": {},
   "outputs": [
    {
     "name": "stdout",
     "output_type": "stream",
     "text": [
      "{'name': '櫻花大道', 'google_url': 'https://www.google.com/maps/place/%E6%AB%BB%E8%8A%B1%E5%A4%A7%E9%81%93/data=!4m7!3m6!1s0x3442ae39be7123e3:0x76aeeeafb2dd3e9e!8m2!3d25.1504227!4d121.5044983!16s%2Fg%2F11b720r0xy!19sChIJ4yNxvjmuQjQRnj7dsq_urnY?authuser=0&hl=zh-TW&rclk=1', 'address': '251新北市淡水區', 'id': 'TPH_271', 'region': '新北市', 'place_id': 'ChIJAQAAABCwQjQRLbiMeGSYq48', 'google_address': '251, Taiwan, New Taipei City, Tamsui District', 'rating': 4.1, 'user_ratings_total': 602, 'lat': 25.1687611, 'lng': 121.4614806, 'photo_reference': 'AUacShhuBu-96N4eyT7AUvHd0UnpMeSsenDHbGURoDY31itmMIPoJtP9FmzE9W3pJ8qJ2EGeXF1Hsfiz2iQUHKNhHcrv9lE3ZJPAzm-p4FueibFIVjiX_xBFURJ9A_HKHZ3zCjTDq6X6HdFvk2gNGlQnbM73skls_aG7BE9udbXaucOtX-NV', 'photo_url': 'https://lh3.googleusercontent.com/places/ANJU3DsqA6Zsa-w_iOVmBmTRj4mqfePGokgc8kUzGl_k_47ZMRqyJ9K6AJk6CN5oUOtp7Z48M9uHic_l84bYzkeFZFJLNW7n9yynNrg=s1600-w1200-h1200', 'tag': ['櫻花', '櫻花季', 'ㄧ些', '健走', '登山', '北投區', '復興三路', '櫻花樹']}\n",
      "{'_id': ObjectId('64eb5a10bcda7bf0f7974441'), 'name': '滬尾櫻花大道', 'google_url': 'https://www.google.com/maps/place/%E6%BB%AC%E5%B0%BE%E6%AB%BB%E8%8A%B1%E5%A4%A7%E9%81%93/data=!4m7!3m6!1s0x3442b01000000001:0x8fab9864788cb82d!8m2!3d25.1687611!4d121.4614806!16s%2Fg%2F12m91rfvs!19sChIJAQAAABCwQjQRLbiMeGSYq48?authuser=0&hl=zh-TW&rclk=1', 'address': '251新北市淡水區', 'id': 'TPH_053', 'region': '新北市', 'place_id': 'ChIJAQAAABCwQjQRLbiMeGSYq48', 'google_address': '251, Taiwan, New Taipei City, Tamsui District', 'rating': 4.1, 'user_ratings_total': 602, 'lat': 25.1687611, 'lng': 121.4614806, 'photo_reference': 'AUacShhml_K8MrKFH_g8uApZROulMBTkVif-DebCCPbkUE5z3pLeV4Mq9Hp6s9FjFRhvDoPlYznsQRIH-xTwxpXyfV-ELzXCJRHRJ7oNf_XuhONRfuCvD8Ep2IKDNU7YvTtUosIAiw0i5Qj1K5B_0okoDkzH4f1quU2Hzk1E4_AEVGHt1CLr', 'photo_url': 'https://lh3.googleusercontent.com/places/ANJU3Dv0RSf57yqJQCtZ-lKsVUnmT52of5yOh2nauFcX4u9WyKR__RomJOGVMh10Fp2fDbm9tY1XNnoTzWS7DPb0xOFEX_oaBVMMaJI=s1600-w1200-h1200', 'tag': ['櫻花', '步道', '健行', '散步', '櫻花季', '淡水', '鄧公站', '悠閒', '清幽', '花季', '騎車', '櫻花樹', '三空泉', '清涼', '清靜', '浪漫', '自然', '茂盛', '農場', '花期', '大自然', '淡水人', '極品', '爬山', '滬尾', '淡海', '山櫻花', '幽靜', '北投', '菁華', '拍照', '導覽', '生態環境', '蟲嗚', '新種', '春意', '關東煮', '攤位', '清新', '凊幽', '隧道', '涼爽', '鄧公路', '紅樹林站', '約會', '細雨', '山區', '產業道路', '八卦', '鄧公', '輕軌線', '藤蔓', '淡水區', '黑糟', '期望值', '綠葉', '蹤影', '電線桿', '總數', '蜂窩', '蜜蜂', '香水', '靜美', '遼闊', '人煙稀少', '谷歌', '新北', '花瓣', '芬多精', '學府路', '電線杆', '世外桃源', '八勢街', '公站', '鄉野', '街區', '體驗', '光芒', '目的地', '腳踏車', '命案', '房車', '車禍', '胖子', '肉腳', '纜線', '單車', '幹線', '美名', '菜園', '碼頭', '粉紅色', '農村', '愜意', '下午茶', '自行車', '群蝶', '木炭', '農民', '枝頭', '踏青', '新芽', '市集', '山坡', '農產品']}\n"
     ]
    }
   ],
   "source": [
    "data = pd.read_csv('./data/tfidf_csv/{}.csv'.format(name))\n",
    "tag_value = data['words'].tolist()\n",
    "\n",
    "place_detail_data = Google().get_place_info(name,url,tag_value)\n",
    "place_detail_data = json.loads(place_detail_data)\n",
    "print(place_detail_data)\n",
    "\n",
    "existing_data = attraction_db.attractionInfo.find_one({\n",
    "    \"$or\": [\n",
    "        {\"place_id\": place_detail_data[\"place_id\"]},\n",
    "        {\"id\": place_detail_data[\"id\"]}\n",
    "    ]\n",
    "})\n",
    "print(existing_data)\n",
    "if existing_data is None:\n",
    "    attraction_db.attractionInfo.insert_one(place_detail_data)\n",
    "    print(f\"{place_detail_data['name']}：已新增\")"
   ]
  },
  {
   "cell_type": "code",
   "execution_count": 12,
   "metadata": {},
   "outputs": [
    {
     "name": "stdout",
     "output_type": "stream",
     "text": [
      "0\n",
      "[]\n"
     ]
    }
   ],
   "source": [
    "# 檢查未成功插入資料庫的景點\n",
    "\n",
    "existing_names = set(doc['name'] for doc in attraction_db.attractionInfo.find({}, {\"name\": 1}))\n",
    "\n",
    "csv_folder_path = './data/tfidf_csv/' \n",
    "csv_files = os.listdir(csv_folder_path)\n",
    "new_csv_files = [csv_file.split('.')[0] for csv_file in csv_files if csv_file.split('.')[0] not in existing_names]\n",
    "print(len(new_csv_files))\n",
    "print(new_csv_files)"
   ]
  },
  {
   "cell_type": "code",
   "execution_count": 11,
   "metadata": {},
   "outputs": [
    {
     "name": "stdout",
     "output_type": "stream",
     "text": [
      "國家級照相館淡金路分館.csv 已删除\n",
      "山崎尾.csv 已删除\n",
      "山崗石材.csv 已删除\n",
      "康荷賞花園.csv 已删除\n",
      "懷恩公園牌樓.csv 已删除\n",
      "成德公園.csv 已删除\n",
      "本山地質公園.csv 已删除\n",
      "柳杉造林地.csv 已删除\n",
      "淡水區樹林口溪十一橋.csv 已删除\n",
      "淡水新埔橋.csv 已删除\n",
      "過港隧道.csv 已删除\n",
      "酋長岩.csv 已删除\n",
      "金龍湖.csv 已删除\n",
      "阿桂俱樂部.csv 已删除\n",
      "鼻頭角公園.csv 已删除\n"
     ]
    }
   ],
   "source": [
    "# 刪除不必要的景點\n",
    "for spot in new_csv_files:\n",
    "    name = spot\n",
    "    csv_file_path = './data/tfidf_csv/{}.csv'.format(name)\n",
    "    if os.path.exists(csv_file_path):\n",
    "        os.remove(csv_file_path)\n",
    "        print(f\"{name}.csv 已删除\")"
   ]
  },
  {
   "cell_type": "code",
   "execution_count": 5,
   "metadata": {},
   "outputs": [
    {
     "name": "stdout",
     "output_type": "stream",
     "text": [
      "八里河岸觀景平台：已新增\n",
      "和平島地質公園 Heping Island GeoPark：未新增\n",
      "和平島地質公園 Heping Island GeoPark.csv 已删除\n",
      "員山子分洪道：已新增\n",
      "基山街觀景臺：已新增\n",
      "關渡自然公園 GUANDU NATURE PARK：未新增\n",
      "關渡自然公園 GUANDU NATURE PARK.csv 已删除\n"
     ]
    }
   ],
   "source": [
    "# 新增缺少的景點\n",
    "for spot in new_csv_files:\n",
    "    name = spot\n",
    "    url = get_url_for_name(name)\n",
    "    try:\n",
    "\n",
    "        tfidf = pd.read_csv('./data/tfidf_csv/{}.csv'.format(name))\n",
    "        tag_value = tfidf['words'].tolist()\n",
    "        \n",
    "        place_detail_data = Google().get_place_info(name,url,tag_value)\n",
    "        place_detail_data = json.loads(place_detail_data)\n",
    "        existing_data = attraction_db.attractionInfo.find_one({\n",
    "            \"$or\": [\n",
    "                {\"place_id\": place_detail_data[\"place_id\"]},\n",
    "                {\"id\": place_detail_data[\"id\"]}\n",
    "            ]\n",
    "        })\n",
    "        if existing_data is None:\n",
    "            attraction_db.attractionInfo.insert_one(place_detail_data)\n",
    "            print(f\"{place_detail_data['name']}：已新增\")\n",
    "        else:\n",
    "            print(f\"{place_detail_data['name']}：未新增\")\n",
    "            csv_file_path = './data/tfidf_csv/{}.csv'.format(name)\n",
    "            if os.path.exists(csv_file_path):\n",
    "                os.remove(csv_file_path)\n",
    "                print(f\"{place_detail_data['name']}.csv 已删除\")\n",
    "    except Exception as e:\n",
    "        print(f\"錯誤訊息：{e}\")\n",
    "        continue"
   ]
  },
  {
   "cell_type": "code",
   "execution_count": 8,
   "metadata": {},
   "outputs": [
    {
     "name": "stdout",
     "output_type": "stream",
     "text": [
      "        name                                         google_url\n",
      "0      嶺腳觀景台  https://www.google.com/maps/place/%E5%B6%BA%E8...\n",
      "1       嶺腳瀑布  https://www.google.com/maps/place/%E5%B6%BA%E8...\n",
      "2       平溪瀑布  https://www.google.com/maps/place/%E5%B9%B3%E6...\n",
      "3       平溪老街  https://www.google.com/maps/place/%E5%B9%B3%E6...\n",
      "4       菁桐老街  https://www.google.com/maps/place/%E8%8F%81%E6...\n",
      "...      ...                                                ...\n",
      "2396  八二三戰史館  https://www.google.com/maps/place/%E5%85%AB%E4...\n",
      "2397   田浦風獅爺  https://www.google.com/maps/place/%E7%94%B0%E6...\n",
      "2398   黃卓彬洋樓  https://www.google.com/maps/place/%E9%BB%83%E5...\n",
      "2399     建功嶼  https://www.google.com/maps/chplace/%E5%BB%BA%...\n",
      "2400     清遠湖  https://www.google.com/maps/place/%E6%B8%85%E9...\n",
      "\n",
      "[2401 rows x 2 columns]\n",
      "               name                                         google_url\n",
      "2264     將軍區長榮里木棉花道  https://www.google.com/maps/place/%E5%B0%87%E8...\n",
      "1536           精英溫泉  https://www.google.com/maps/place/%E7%B2%BE%E8...\n",
      "640   蘭陽原創館-宜蘭市文創園區  https://www.google.com/maps/place/%E8%98%AD%E9...\n",
      "1981         雙流瀑布步道  https://www.google.com/maps/place/%E9%9B%99%E6...\n",
      "663             森學苑  https://www.google.com/maps/place/%E6%A3%AE%E5...\n",
      "...             ...                                                ...\n",
      "1749            錫安山  https://www.google.com/maps/place/%E9%8C%AB%E5...\n",
      "1677         朴子藝術公園  https://www.google.com/maps/place/%E6%9C%B4%E5...\n",
      "1395         埤頭木棉花道  https://www.google.com/maps/place/%E5%9F%A4%E9...\n",
      "1051      福壽山農場｜千櫻園  https://www.google.com/maps/place/%E7%A6%8F%E5...\n",
      "489         義民廟觀光花園  https://www.google.com/maps/place/%E7%BE%A9%E6...\n",
      "\n",
      "[2401 rows x 2 columns]\n"
     ]
    }
   ],
   "source": [
    "# 隨機排序景點\n",
    "\n",
    "list = pd.read_csv('./data/spot_list/spotsList.csv')\n",
    "print(list)\n",
    "\n",
    "random.seed(42)\n",
    "random_spotsList = list.sample(frac=1,random_state=random.randint(1,10000))\n",
    "print(random_spotsList)\n",
    "\n",
    "random_spotsList.to_csv('./data/spot_list/random_spotsList.csv',encoding=\"utf-8-sig\",index=False)\n"
   ]
  }
 ],
 "metadata": {
  "kernelspec": {
   "display_name": "venv",
   "language": "python",
   "name": "python3"
  },
  "language_info": {
   "codemirror_mode": {
    "name": "ipython",
    "version": 3
   },
   "file_extension": ".py",
   "mimetype": "text/x-python",
   "name": "python",
   "nbconvert_exporter": "python",
   "pygments_lexer": "ipython3",
   "version": "3.11.5"
  },
  "orig_nbformat": 4
 },
 "nbformat": 4,
 "nbformat_minor": 2
}
